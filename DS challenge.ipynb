{
  "nbformat": 4,
  "nbformat_minor": 0,
  "metadata": {
    "colab": {
      "name": "Untitled0.ipynb",
      "provenance": [],
      "collapsed_sections": [],
      "toc_visible": true,
      "machine_shape": "hm",
      "authorship_tag": "ABX9TyMfbdPjsQ6mvLF7gbU533jN"
    },
    "kernelspec": {
      "name": "python3",
      "display_name": "Python 3"
    },
    "accelerator": "GPU"
  },
  "cells": [
    {
      "cell_type": "markdown",
      "metadata": {
        "id": "YVI-IYjRptSk",
        "colab_type": "text"
      },
      "source": [
        "# ELUVIO data science challenge"
      ]
    },
    {
      "cell_type": "markdown",
      "metadata": {
        "id": "pExGbGxGBkkr",
        "colab_type": "text"
      },
      "source": [
        "### Assuming the file is large, the csv is firstly downloaded into cloud drive and then processed through a database file.\n",
        "### The notebook below was ran on Google Colab and it documented the rough process of model prototyping. Please noted that due to the limitations on time and resources many details such as EDA and visualizations were not recorded.\n",
        "\n"
      ]
    },
    {
      "cell_type": "code",
      "metadata": {
        "id": "7biwQHIFW8rV",
        "colab_type": "code",
        "outputId": "a846b6e1-c45f-4269-9e9d-9b48d4247a6d",
        "colab": {
          "base_uri": "https://localhost:8080/",
          "height": 387
        }
      },
      "source": [
        "# install fastText if needed\n",
        "!git clone https://github.com/facebookresearch/fastText.git\n",
        "!pip install fastText/\n",
        "\n",
        "import fasttext\n",
        "import fasttext.util\n",
        "\n",
        "# download fasttext English embeddings (could take a while)\n",
        "fasttext.util.download_model('en')\n"
      ],
      "execution_count": 1,
      "outputs": [
        {
          "output_type": "stream",
          "text": [
            "Cloning into 'fastText'...\n",
            "remote: Enumerating objects: 22, done.\u001b[K\n",
            "remote: Counting objects: 100% (22/22), done.\u001b[K\n",
            "remote: Compressing objects: 100% (11/11), done.\u001b[K\n",
            "remote: Total 3679 (delta 2), reused 17 (delta 1), pack-reused 3657\u001b[K\n",
            "Receiving objects: 100% (3679/3679), 8.10 MiB | 5.98 MiB/s, done.\n",
            "Resolving deltas: 100% (2313/2313), done.\n",
            "Processing ./fastText\n",
            "Requirement already satisfied: pybind11>=2.2 in /usr/local/lib/python3.6/dist-packages (from fasttext==0.9.1) (2.4.3)\n",
            "Requirement already satisfied: setuptools>=0.7.0 in /usr/local/lib/python3.6/dist-packages (from fasttext==0.9.1) (45.2.0)\n",
            "Requirement already satisfied: numpy in /usr/local/lib/python3.6/dist-packages (from fasttext==0.9.1) (1.17.5)\n",
            "Building wheels for collected packages: fasttext\n",
            "  Building wheel for fasttext (setup.py) ... \u001b[?25l\u001b[?25hdone\n",
            "  Created wheel for fasttext: filename=fasttext-0.9.1-cp36-cp36m-linux_x86_64.whl size=2859405 sha256=82010b82b03dd8f5a7006e9b99bf940b1a90592562132b65d246c16dbe304139\n",
            "  Stored in directory: /tmp/pip-ephem-wheel-cache-c4_d6uop/wheels/a1/9f/52/696ce6c5c46325e840c76614ee5051458c0df10306987e7443\n",
            "Successfully built fasttext\n",
            "Installing collected packages: fasttext\n",
            "Successfully installed fasttext-0.9.1\n",
            "Downloading https://dl.fbaipublicfiles.com/fasttext/vectors-crawl/cc.en.300.bin.gz\n",
            " (13.28%) [======>                                            Buffered data was truncated after reaching the output size limit."
          ],
          "name": "stdout"
        }
      ]
    },
    {
      "cell_type": "code",
      "metadata": {
        "id": "ibyVLk8rXV3Z",
        "colab_type": "code",
        "outputId": "2f157b05-dab0-4600-8500-e4795cda1c90",
        "colab": {
          "base_uri": "https://localhost:8080/",
          "height": 52
        }
      },
      "source": [
        "# load English embeddings (high memory usage)\n",
        "eng = fasttext.load_model('cc.en.300.bin')\n",
        "# reduce embeddings dimension\n",
        "fasttext.util.reduce_model(eng, 100)"
      ],
      "execution_count": 2,
      "outputs": [
        {
          "output_type": "stream",
          "text": [
            "Warning : `load_model` does not return WordVectorModel or SupervisedModel any more, but a `FastText` object which is very similar.\n"
          ],
          "name": "stderr"
        },
        {
          "output_type": "execute_result",
          "data": {
            "text/plain": [
              "<fasttext.FastText._FastText at 0x7f09974fedd8>"
            ]
          },
          "metadata": {
            "tags": []
          },
          "execution_count": 2
        }
      ]
    },
    {
      "cell_type": "code",
      "metadata": {
        "id": "tXyMUVXyXWGQ",
        "colab_type": "code",
        "colab": {
          "base_uri": "https://localhost:8080/",
          "height": 34
        },
        "outputId": "a313fb72-619e-475c-8ca6-a9b70ec80432"
      },
      "source": [
        "# new dimension\n",
        "eng.get_dimension()"
      ],
      "execution_count": 126,
      "outputs": [
        {
          "output_type": "execute_result",
          "data": {
            "text/plain": [
              "100"
            ]
          },
          "metadata": {
            "tags": []
          },
          "execution_count": 126
        }
      ]
    },
    {
      "cell_type": "code",
      "metadata": {
        "id": "59Dio1zspsXl",
        "colab_type": "code",
        "colab": {}
      },
      "source": [
        "# import useful libraries\n",
        "\n",
        "# DS tools\n",
        "import pandas as pd\n",
        "import numpy as np\n",
        "import matplotlib.pyplot as plt\n",
        "import sklearn\n",
        "\n",
        "# database tools\n",
        "import sqlite3\n",
        "\n",
        "# text processing\n",
        "import nltk\n",
        "from nltk.tokenize import word_tokenize\n",
        "from nltk.stem.porter import PorterStemmer\n",
        "import string\n",
        "\n",
        "# google drive tools\n",
        "import pydrive\n",
        "from pydrive.auth import GoogleAuth\n",
        "from pydrive.drive import GoogleDrive\n",
        "from google.colab import auth\n",
        "from oauth2client.client import GoogleCredentials"
      ],
      "execution_count": 0,
      "outputs": []
    },
    {
      "cell_type": "code",
      "metadata": {
        "id": "VljXgaeMjLuN",
        "colab_type": "code",
        "colab": {
          "base_uri": "https://localhost:8080/",
          "height": 87
        },
        "outputId": "6617b17e-7afe-4b7a-f31a-179c55252ec8"
      },
      "source": [
        "# stopwords\n",
        "nltk.download(['stopwords', 'punkt'])\n",
        "stopwords = set(nltk.corpus.stopwords.words('english'))"
      ],
      "execution_count": 128,
      "outputs": [
        {
          "output_type": "stream",
          "text": [
            "[nltk_data] Downloading package stopwords to /root/nltk_data...\n",
            "[nltk_data]   Package stopwords is already up-to-date!\n",
            "[nltk_data] Downloading package punkt to /root/nltk_data...\n",
            "[nltk_data]   Package punkt is already up-to-date!\n"
          ],
          "name": "stdout"
        }
      ]
    },
    {
      "cell_type": "code",
      "metadata": {
        "id": "TwIzXsyPy4iU",
        "colab_type": "code",
        "colab": {}
      },
      "source": [
        "# authenticate and create PyDrive client\n",
        "auth.authenticate_user()\n",
        "gauth = GoogleAuth()\n",
        "gauth.credentials = GoogleCredentials.get_application_default()\n",
        "drive = GoogleDrive(gauth)"
      ],
      "execution_count": 0,
      "outputs": []
    },
    {
      "cell_type": "code",
      "metadata": {
        "id": "UbDI0X3O0c_X",
        "colab_type": "code",
        "colab": {}
      },
      "source": [
        "# address of the file, replace the address below with the one on YOUR google drive \n",
        "link = 'https://drive.google.com/open?id=15X00ZWBjla7qGOIW33j8865QdF89IyAk'\n",
        "_, id = link.split('=')"
      ],
      "execution_count": 0,
      "outputs": []
    },
    {
      "cell_type": "code",
      "metadata": {
        "id": "BXzYggbI0c8A",
        "colab_type": "code",
        "colab": {}
      },
      "source": [
        "# download csv to cloud drive (files can be directly read from google drive as well, it was firstly downloaded to cloud for speedy process)\n",
        "downloaded = drive.CreateFile({'id':id}) \n",
        "downloaded.GetContentFile('eluvio.csv')"
      ],
      "execution_count": 0,
      "outputs": []
    },
    {
      "cell_type": "code",
      "metadata": {
        "id": "L9-hyAg-z8Sr",
        "colab_type": "code",
        "colab": {}
      },
      "source": [
        "# create database on the could\n",
        "conn = sqlite3.connect('eluvio.db')\n",
        "cur = conn.cursor()"
      ],
      "execution_count": 0,
      "outputs": []
    },
    {
      "cell_type": "code",
      "metadata": {
        "id": "KOneC0vnz8hS",
        "colab_type": "code",
        "colab": {}
      },
      "source": [
        "# import csv into database file\n",
        "df = pd.read_csv('eluvio.csv', chunksize=512)\n",
        "for i in df:\n",
        "  i.to_sql('eluvio', con=conn, if_exists='append')"
      ],
      "execution_count": 0,
      "outputs": []
    },
    {
      "cell_type": "code",
      "metadata": {
        "id": "PpvauxgCz8uE",
        "colab_type": "code",
        "colab": {
          "base_uri": "https://localhost:8080/",
          "height": 80
        },
        "outputId": "adb1d863-239e-4ff3-e2a3-8572861c1194"
      },
      "source": [
        "# dataset size\n",
        "pd.read_sql_query('Select Count(*) from Eluvio', con=conn)"
      ],
      "execution_count": 134,
      "outputs": [
        {
          "output_type": "execute_result",
          "data": {
            "text/html": [
              "<div>\n",
              "<style scoped>\n",
              "    .dataframe tbody tr th:only-of-type {\n",
              "        vertical-align: middle;\n",
              "    }\n",
              "\n",
              "    .dataframe tbody tr th {\n",
              "        vertical-align: top;\n",
              "    }\n",
              "\n",
              "    .dataframe thead th {\n",
              "        text-align: right;\n",
              "    }\n",
              "</style>\n",
              "<table border=\"1\" class=\"dataframe\">\n",
              "  <thead>\n",
              "    <tr style=\"text-align: right;\">\n",
              "      <th></th>\n",
              "      <th>Count(*)</th>\n",
              "    </tr>\n",
              "  </thead>\n",
              "  <tbody>\n",
              "    <tr>\n",
              "      <th>0</th>\n",
              "      <td>509236</td>\n",
              "    </tr>\n",
              "  </tbody>\n",
              "</table>\n",
              "</div>"
            ],
            "text/plain": [
              "   Count(*)\n",
              "0    509236"
            ]
          },
          "metadata": {
            "tags": []
          },
          "execution_count": 134
        }
      ]
    },
    {
      "cell_type": "code",
      "metadata": {
        "id": "o8zC8EjGz85r",
        "colab_type": "code",
        "outputId": "37e29150-9661-4cf6-b5ea-53ee20e7fd83",
        "colab": {
          "base_uri": "https://localhost:8080/",
          "height": 174
        }
      },
      "source": [
        "# basic database info\n",
        "cur.execute('PRAGMA table_info(''eluvio'')').fetchall()"
      ],
      "execution_count": 135,
      "outputs": [
        {
          "output_type": "execute_result",
          "data": {
            "text/plain": [
              "[(0, 'index', 'INTEGER', 0, None, 0),\n",
              " (1, 'time_created', 'INTEGER', 0, None, 0),\n",
              " (2, 'date_created', 'TEXT', 0, None, 0),\n",
              " (3, 'up_votes', 'INTEGER', 0, None, 0),\n",
              " (4, 'down_votes', 'INTEGER', 0, None, 0),\n",
              " (5, 'title', 'TEXT', 0, None, 0),\n",
              " (6, 'over_18', 'INTEGER', 0, None, 0),\n",
              " (7, 'author', 'TEXT', 0, None, 0),\n",
              " (8, 'category', 'TEXT', 0, None, 0)]"
            ]
          },
          "metadata": {
            "tags": []
          },
          "execution_count": 135
        }
      ]
    },
    {
      "cell_type": "code",
      "metadata": {
        "id": "_6HxuUgNz9Fk",
        "colab_type": "code",
        "outputId": "01e1d81e-89af-4535-e25f-e4cae6369fc4",
        "colab": {
          "base_uri": "https://localhost:8080/",
          "height": 359
        }
      },
      "source": [
        "# some explorations\n",
        "pd.read_sql_query('Select * From eluvio Limit 10', con=conn)\n"
      ],
      "execution_count": 136,
      "outputs": [
        {
          "output_type": "execute_result",
          "data": {
            "text/html": [
              "<div>\n",
              "<style scoped>\n",
              "    .dataframe tbody tr th:only-of-type {\n",
              "        vertical-align: middle;\n",
              "    }\n",
              "\n",
              "    .dataframe tbody tr th {\n",
              "        vertical-align: top;\n",
              "    }\n",
              "\n",
              "    .dataframe thead th {\n",
              "        text-align: right;\n",
              "    }\n",
              "</style>\n",
              "<table border=\"1\" class=\"dataframe\">\n",
              "  <thead>\n",
              "    <tr style=\"text-align: right;\">\n",
              "      <th></th>\n",
              "      <th>index</th>\n",
              "      <th>time_created</th>\n",
              "      <th>date_created</th>\n",
              "      <th>up_votes</th>\n",
              "      <th>down_votes</th>\n",
              "      <th>title</th>\n",
              "      <th>over_18</th>\n",
              "      <th>author</th>\n",
              "      <th>category</th>\n",
              "    </tr>\n",
              "  </thead>\n",
              "  <tbody>\n",
              "    <tr>\n",
              "      <th>0</th>\n",
              "      <td>0</td>\n",
              "      <td>1201232046</td>\n",
              "      <td>2008-01-25</td>\n",
              "      <td>3</td>\n",
              "      <td>0</td>\n",
              "      <td>Scores killed in Pakistan clashes</td>\n",
              "      <td>0</td>\n",
              "      <td>polar</td>\n",
              "      <td>worldnews</td>\n",
              "    </tr>\n",
              "    <tr>\n",
              "      <th>1</th>\n",
              "      <td>1</td>\n",
              "      <td>1201232075</td>\n",
              "      <td>2008-01-25</td>\n",
              "      <td>2</td>\n",
              "      <td>0</td>\n",
              "      <td>Japan resumes refuelling mission</td>\n",
              "      <td>0</td>\n",
              "      <td>polar</td>\n",
              "      <td>worldnews</td>\n",
              "    </tr>\n",
              "    <tr>\n",
              "      <th>2</th>\n",
              "      <td>2</td>\n",
              "      <td>1201232523</td>\n",
              "      <td>2008-01-25</td>\n",
              "      <td>3</td>\n",
              "      <td>0</td>\n",
              "      <td>US presses Egypt on Gaza border</td>\n",
              "      <td>0</td>\n",
              "      <td>polar</td>\n",
              "      <td>worldnews</td>\n",
              "    </tr>\n",
              "    <tr>\n",
              "      <th>3</th>\n",
              "      <td>3</td>\n",
              "      <td>1201233290</td>\n",
              "      <td>2008-01-25</td>\n",
              "      <td>1</td>\n",
              "      <td>0</td>\n",
              "      <td>Jump-start economy: Give health care to all</td>\n",
              "      <td>0</td>\n",
              "      <td>fadi420</td>\n",
              "      <td>worldnews</td>\n",
              "    </tr>\n",
              "    <tr>\n",
              "      <th>4</th>\n",
              "      <td>4</td>\n",
              "      <td>1201274720</td>\n",
              "      <td>2008-01-25</td>\n",
              "      <td>4</td>\n",
              "      <td>0</td>\n",
              "      <td>Council of Europe bashes EU&amp;UN terror blacklist</td>\n",
              "      <td>0</td>\n",
              "      <td>mhermans</td>\n",
              "      <td>worldnews</td>\n",
              "    </tr>\n",
              "    <tr>\n",
              "      <th>5</th>\n",
              "      <td>5</td>\n",
              "      <td>1201287889</td>\n",
              "      <td>2008-01-25</td>\n",
              "      <td>15</td>\n",
              "      <td>0</td>\n",
              "      <td>Hay presto! Farmer unveils the  illegal  mock-...</td>\n",
              "      <td>0</td>\n",
              "      <td>Armagedonovich</td>\n",
              "      <td>worldnews</td>\n",
              "    </tr>\n",
              "    <tr>\n",
              "      <th>6</th>\n",
              "      <td>6</td>\n",
              "      <td>1201289438</td>\n",
              "      <td>2008-01-25</td>\n",
              "      <td>5</td>\n",
              "      <td>0</td>\n",
              "      <td>Strikes, Protests and Gridlock at the Poland-U...</td>\n",
              "      <td>0</td>\n",
              "      <td>Clythos</td>\n",
              "      <td>worldnews</td>\n",
              "    </tr>\n",
              "    <tr>\n",
              "      <th>7</th>\n",
              "      <td>7</td>\n",
              "      <td>1201536662</td>\n",
              "      <td>2008-01-28</td>\n",
              "      <td>0</td>\n",
              "      <td>0</td>\n",
              "      <td>The U.N. Mismanagement Program</td>\n",
              "      <td>0</td>\n",
              "      <td>Moldavite</td>\n",
              "      <td>worldnews</td>\n",
              "    </tr>\n",
              "    <tr>\n",
              "      <th>8</th>\n",
              "      <td>8</td>\n",
              "      <td>1201558396</td>\n",
              "      <td>2008-01-28</td>\n",
              "      <td>4</td>\n",
              "      <td>0</td>\n",
              "      <td>Nicolas Sarkozy threatens to sue Ryanair</td>\n",
              "      <td>0</td>\n",
              "      <td>Moldavite</td>\n",
              "      <td>worldnews</td>\n",
              "    </tr>\n",
              "    <tr>\n",
              "      <th>9</th>\n",
              "      <td>9</td>\n",
              "      <td>1201635869</td>\n",
              "      <td>2008-01-29</td>\n",
              "      <td>3</td>\n",
              "      <td>0</td>\n",
              "      <td>US plans for missile shields in Polish town me...</td>\n",
              "      <td>0</td>\n",
              "      <td>JoeyRamone63</td>\n",
              "      <td>worldnews</td>\n",
              "    </tr>\n",
              "  </tbody>\n",
              "</table>\n",
              "</div>"
            ],
            "text/plain": [
              "   index  time_created date_created  ...  over_18          author   category\n",
              "0      0    1201232046   2008-01-25  ...        0           polar  worldnews\n",
              "1      1    1201232075   2008-01-25  ...        0           polar  worldnews\n",
              "2      2    1201232523   2008-01-25  ...        0           polar  worldnews\n",
              "3      3    1201233290   2008-01-25  ...        0         fadi420  worldnews\n",
              "4      4    1201274720   2008-01-25  ...        0        mhermans  worldnews\n",
              "5      5    1201287889   2008-01-25  ...        0  Armagedonovich  worldnews\n",
              "6      6    1201289438   2008-01-25  ...        0         Clythos  worldnews\n",
              "7      7    1201536662   2008-01-28  ...        0       Moldavite  worldnews\n",
              "8      8    1201558396   2008-01-28  ...        0       Moldavite  worldnews\n",
              "9      9    1201635869   2008-01-29  ...        0    JoeyRamone63  worldnews\n",
              "\n",
              "[10 rows x 9 columns]"
            ]
          },
          "metadata": {
            "tags": []
          },
          "execution_count": 136
        }
      ]
    },
    {
      "cell_type": "markdown",
      "metadata": {
        "id": "2COHBsKsGghg",
        "colab_type": "text"
      },
      "source": [
        "### One possible application is predicting title popularity as time-series using RNN to determine which newly published title should be displayed on front page, yet the causal relationship of title popularity with time is not easy to establish. Hence in the intrest of time a more straight-forward application of determine which title should be flagged as over_18 is presented below\n",
        "### Please note that since the two categories are extremely imbalanced (only 320 observations in \"over_18\") the majority class were randomly sampled with 320 observations to join the minority and form a balanced experimentation data set.\n"
      ]
    },
    {
      "cell_type": "code",
      "metadata": {
        "id": "OoS_FKXIWfaA",
        "colab_type": "code",
        "colab": {}
      },
      "source": [
        "# positive and negative titles by age limit, negative cases randomly down-sampled to match the number of positive cases\n",
        "over_18 = pd.read_sql_query('Select * From eluvio Where over_18 = 1', con=conn)\n",
        "not_over_18 = pd.read_sql_query('Select * from eluvio Where over_18=0 Order By Random() Limit 320', con=conn)\n",
        "\n",
        "df = pd.concat([over_18, not_over_18])"
      ],
      "execution_count": 0,
      "outputs": []
    },
    {
      "cell_type": "markdown",
      "metadata": {
        "id": "4r7tEdEDIS-i",
        "colab_type": "text"
      },
      "source": [
        "### Based on the given file, whether a file would be flagged as over_18 is mainly determined by its title which is not very much time dependent. Therefore only title is used for the modelling process. Other features such as author and category can also be included in the future when a robust in-house word embedding system is established. \n",
        "\n",
        "\n"
      ]
    },
    {
      "cell_type": "code",
      "metadata": {
        "id": "qWGoAepAbQyw",
        "colab_type": "code",
        "colab": {}
      },
      "source": [
        "df = df[['title', 'over_18']]\n",
        "df.reset_index(inplace=True)"
      ],
      "execution_count": 0,
      "outputs": []
    },
    {
      "cell_type": "code",
      "metadata": {
        "id": "t_ytHTWjbLL0",
        "colab_type": "code",
        "colab": {
          "base_uri": "https://localhost:8080/",
          "height": 204
        },
        "outputId": "ae6112f9-c87e-414a-f076-4184a899e083"
      },
      "source": [
        "df.head()"
      ],
      "execution_count": 185,
      "outputs": [
        {
          "output_type": "execute_result",
          "data": {
            "text/html": [
              "<div>\n",
              "<style scoped>\n",
              "    .dataframe tbody tr th:only-of-type {\n",
              "        vertical-align: middle;\n",
              "    }\n",
              "\n",
              "    .dataframe tbody tr th {\n",
              "        vertical-align: top;\n",
              "    }\n",
              "\n",
              "    .dataframe thead th {\n",
              "        text-align: right;\n",
              "    }\n",
              "</style>\n",
              "<table border=\"1\" class=\"dataframe\">\n",
              "  <thead>\n",
              "    <tr style=\"text-align: right;\">\n",
              "      <th></th>\n",
              "      <th>index</th>\n",
              "      <th>title</th>\n",
              "      <th>over_18</th>\n",
              "    </tr>\n",
              "  </thead>\n",
              "  <tbody>\n",
              "    <tr>\n",
              "      <th>0</th>\n",
              "      <td>0</td>\n",
              "      <td>Pics from the Tibetan protests - more graphic ...</td>\n",
              "      <td>1</td>\n",
              "    </tr>\n",
              "    <tr>\n",
              "      <th>1</th>\n",
              "      <td>1</td>\n",
              "      <td>MI5 linked to Max Mosley’s Nazi-style, sadomas...</td>\n",
              "      <td>1</td>\n",
              "    </tr>\n",
              "    <tr>\n",
              "      <th>2</th>\n",
              "      <td>2</td>\n",
              "      <td>Tabloid Horrifies Germany: Poland s Yellow Pre...</td>\n",
              "      <td>1</td>\n",
              "    </tr>\n",
              "    <tr>\n",
              "      <th>3</th>\n",
              "      <td>3</td>\n",
              "      <td>Love Parade Dortmund: Techno Festival Breaks R...</td>\n",
              "      <td>1</td>\n",
              "    </tr>\n",
              "    <tr>\n",
              "      <th>4</th>\n",
              "      <td>4</td>\n",
              "      <td>IDF kills young Palestinian boy. Potentially N...</td>\n",
              "      <td>1</td>\n",
              "    </tr>\n",
              "  </tbody>\n",
              "</table>\n",
              "</div>"
            ],
            "text/plain": [
              "   index                                              title  over_18\n",
              "0      0  Pics from the Tibetan protests - more graphic ...        1\n",
              "1      1  MI5 linked to Max Mosley’s Nazi-style, sadomas...        1\n",
              "2      2  Tabloid Horrifies Germany: Poland s Yellow Pre...        1\n",
              "3      3  Love Parade Dortmund: Techno Festival Breaks R...        1\n",
              "4      4  IDF kills young Palestinian boy. Potentially N...        1"
            ]
          },
          "metadata": {
            "tags": []
          },
          "execution_count": 185
        }
      ]
    },
    {
      "cell_type": "markdown",
      "metadata": {
        "id": "UvfMjqrz0ZEf",
        "colab_type": "text"
      },
      "source": [
        "### for each title, all punctuations, stop-words and symbols/numbers are removed, and embedding vectors for all other words left are summed up into a single 100-dimensional vector to represent a single title in the design matrix\n"
      ]
    },
    {
      "cell_type": "code",
      "metadata": {
        "id": "cHdN25g-beKc",
        "colab_type": "code",
        "colab": {}
      },
      "source": [
        "# prepare trainable data\n",
        "def data_prep(data_frame, embeddings):\n",
        "  # word embeddings matrix construction\n",
        "  X = np.zeros((data_frame.shape[0], embeddings.get_dimension()))\n",
        "  Y = data_frame['over_18']\n",
        "  count = 0\n",
        "  for title in data_frame['title']:\n",
        "    # tokenize, remove stop words, punctuation etc.\n",
        "    words = [(i.lower()) for i in word_tokenize(title) if i.isalpha() and i not in stopwords]\n",
        "    \n",
        "    # get word vectors and take the sum, which will be used as the representation of each title\n",
        "    sum = np.zeros(embeddings.get_dimension())\n",
        "    for w in words:\n",
        "      sum+=embeddings[w]\n",
        "    \n",
        "    X[count, :] = sum.reshape(1, embeddings.get_dimension())\n",
        "    count+=1\n",
        "\n",
        "  return sklearn.model_selection.train_test_split(X, Y, test_size=0.2, random_state=13, shuffle=True)\n"
      ],
      "execution_count": 0,
      "outputs": []
    },
    {
      "cell_type": "code",
      "metadata": {
        "id": "sR8P-Rn2spl9",
        "colab_type": "code",
        "colab": {}
      },
      "source": [
        "# trainable data\n",
        "trainX, testX, trainY, testY = data_prep(df, eng)"
      ],
      "execution_count": 0,
      "outputs": []
    },
    {
      "cell_type": "code",
      "metadata": {
        "id": "gePxmrFbsp0f",
        "colab_type": "code",
        "colab": {
          "base_uri": "https://localhost:8080/",
          "height": 34
        },
        "outputId": "3538db3d-80ac-4397-c4c0-1e9762515748"
      },
      "source": [
        "# dimensions\n",
        "trainX.shape, testX.shape, trainY.shape, testY.shape"
      ],
      "execution_count": 188,
      "outputs": [
        {
          "output_type": "execute_result",
          "data": {
            "text/plain": [
              "((512, 100), (128, 100), (512,), (128,))"
            ]
          },
          "metadata": {
            "tags": []
          },
          "execution_count": 188
        }
      ]
    },
    {
      "cell_type": "code",
      "metadata": {
        "id": "vpvEPNaDs_sc",
        "colab_type": "code",
        "colab": {}
      },
      "source": [
        "# sklearn tools\n",
        "from sklearn import svm\n",
        "from sklearn.metrics import confusion_matrix\n",
        "from sklearn.model_selection import cross_val_score"
      ],
      "execution_count": 0,
      "outputs": []
    },
    {
      "cell_type": "markdown",
      "metadata": {
        "id": "gEIoHzI6G7Kf",
        "colab_type": "text"
      },
      "source": [
        "### Since the down-sampling process gives us a balanced dataset, the naive benchmark will be 50% and let's see if we can do better."
      ]
    },
    {
      "cell_type": "code",
      "metadata": {
        "id": "h53Y2Ia6ypgl",
        "colab_type": "code",
        "colab": {
          "base_uri": "https://localhost:8080/",
          "height": 52
        },
        "outputId": "7a77ecc7-0161-43cd-a4a7-540e5e500a69"
      },
      "source": [
        "# first a vanilla SVM to get a basic sense\n",
        "clf = svm.SVC()\n",
        "clf.fit(trainX, trainY)\n",
        "predY = clf.predict(testX)\n",
        "confusion_matrix(testY, predY)"
      ],
      "execution_count": 190,
      "outputs": [
        {
          "output_type": "execute_result",
          "data": {
            "text/plain": [
              "array([[55,  3],\n",
              "       [20, 50]])"
            ]
          },
          "metadata": {
            "tags": []
          },
          "execution_count": 190
        }
      ]
    },
    {
      "cell_type": "markdown",
      "metadata": {
        "id": "N_sU3FHZ7vJi",
        "colab_type": "text"
      },
      "source": [
        "### we can see that the FN is quite high. Let's try to tune the model a bit"
      ]
    },
    {
      "cell_type": "code",
      "metadata": {
        "id": "cQzArsrFypol",
        "colab_type": "code",
        "colab": {}
      },
      "source": [
        "from sklearn.model_selection import GridSearchCV \n",
        "parameters = {'C':[1, 5, 10, 25, 50, 100], 'gamma':[0.0001, 0.001, 0.005, 0.01, 0.1, 1]}\n",
        "clf = svm.SVC()"
      ],
      "execution_count": 0,
      "outputs": []
    },
    {
      "cell_type": "code",
      "metadata": {
        "id": "AnFjeG8LypvU",
        "colab_type": "code",
        "colab": {
          "base_uri": "https://localhost:8080/",
          "height": 227
        },
        "outputId": "63668009-9748-4d76-d70e-059dfefbe200"
      },
      "source": [
        "recall_scorer = sklearn.metrics.make_scorer(sklearn.metrics.recall_score)\n",
        "clf = GridSearchCV(clf, parameters, scoring=recall_scorer)\n",
        "clf.fit(trainX, trainY)"
      ],
      "execution_count": 192,
      "outputs": [
        {
          "output_type": "execute_result",
          "data": {
            "text/plain": [
              "GridSearchCV(cv=None, error_score=nan,\n",
              "             estimator=SVC(C=1.0, break_ties=False, cache_size=200,\n",
              "                           class_weight=None, coef0=0.0,\n",
              "                           decision_function_shape='ovr', degree=3,\n",
              "                           gamma='scale', kernel='rbf', max_iter=-1,\n",
              "                           probability=False, random_state=None, shrinking=True,\n",
              "                           tol=0.001, verbose=False),\n",
              "             iid='deprecated', n_jobs=None,\n",
              "             param_grid={'C': [1, 5, 10, 25, 50, 100],\n",
              "                         'gamma': [0.0001, 0.001, 0.005, 0.01, 0.1, 1]},\n",
              "             pre_dispatch='2*n_jobs', refit=True, return_train_score=False,\n",
              "             scoring=make_scorer(recall_score), verbose=0)"
            ]
          },
          "metadata": {
            "tags": []
          },
          "execution_count": 192
        }
      ]
    },
    {
      "cell_type": "code",
      "metadata": {
        "id": "-2B7W5-qyp8M",
        "colab_type": "code",
        "colab": {
          "base_uri": "https://localhost:8080/",
          "height": 52
        },
        "outputId": "e6bde035-b8de-47bb-9873-f98960292d88"
      },
      "source": [
        "confusion_matrix(testY, clf.best_estimator_.predict(testX))"
      ],
      "execution_count": 193,
      "outputs": [
        {
          "output_type": "execute_result",
          "data": {
            "text/plain": [
              "array([[53,  5],\n",
              "       [17, 53]])"
            ]
          },
          "metadata": {
            "tags": []
          },
          "execution_count": 193
        }
      ]
    },
    {
      "cell_type": "code",
      "metadata": {
        "id": "G9XryzAWyp23",
        "colab_type": "code",
        "colab": {
          "base_uri": "https://localhost:8080/",
          "height": 34
        },
        "outputId": "d361b91b-df3a-4b1c-a497-64e54b81730d"
      },
      "source": [
        "clf.best_score_"
      ],
      "execution_count": 194,
      "outputs": [
        {
          "output_type": "execute_result",
          "data": {
            "text/plain": [
              "0.756"
            ]
          },
          "metadata": {
            "tags": []
          },
          "execution_count": 194
        }
      ]
    },
    {
      "cell_type": "markdown",
      "metadata": {
        "id": "eC1qn_dbEf3o",
        "colab_type": "text"
      },
      "source": [
        "### we can see a slight improvement on recall, due to the interest of time  no other models, nor repeated sampling majority class to test model stability, nor further tuning will be done and the process recorded so far illustrates the rough overall process of model prototyping. Many of the details such as EDA and visualizations are not recorded in this report again due to the limitation on time, yet they were crucial steps which led to the decisions on problem formulation, modelling and so on."
      ]
    },
    {
      "cell_type": "code",
      "metadata": {
        "id": "PKfcyXUiIK-9",
        "colab_type": "code",
        "colab": {}
      },
      "source": [
        ""
      ],
      "execution_count": 0,
      "outputs": []
    }
  ]
}